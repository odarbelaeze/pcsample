{
 "metadata": {
  "name": "",
  "signature": "sha256:36b2e90154a96baca88107efecb92964a3f521fc8309670c538e843c23be88ae"
 },
 "nbformat": 3,
 "nbformat_minor": 0,
 "worksheets": [
  {
   "cells": [
    {
     "cell_type": "code",
     "collapsed": false,
     "input": [
      "%matplotlib\n",
      "import matplotlib.pyplot as plt\n",
      "\n",
      "from pcsample import Sample\n",
      "\n",
      "s = Sample(5, 4, 4)\n",
      "r_latt = s.in_circles()\n",
      "r_rand = s.out_circles()\n",
      "\n",
      "plt.plot(r_latt[:,0], r_latt[:,1], '.r')\n",
      "plt.plot(r_rand[:,0], r_rand[:,1], '.k')\n",
      "plt.show()\n"
     ],
     "language": "python",
     "metadata": {},
     "outputs": [
      {
       "output_type": "stream",
       "stream": "stdout",
       "text": [
        "Using matplotlib backend: Qt4Agg\n"
       ]
      }
     ],
     "prompt_number": 2
    },
    {
     "cell_type": "code",
     "collapsed": false,
     "input": [
      "import numpy as np\n",
      "\n",
      "s = Sample(2.0, 2.0, 2.0, in_rand=True, out_rand=True)\n",
      "print all([vec in s.random_lattice() for vec in s.in_circles()])\n",
      "print s.in_circles() in s.random_lattice()"
     ],
     "language": "python",
     "metadata": {},
     "outputs": [
      {
       "output_type": "stream",
       "stream": "stdout",
       "text": [
        "True\n",
        "False\n"
       ]
      }
     ],
     "prompt_number": 14
    }
   ],
   "metadata": {}
  }
 ]
}