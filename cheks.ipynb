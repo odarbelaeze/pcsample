{
 "metadata": {
  "name": "",
  "signature": "sha256:d0ab3616a334d37578c00bf81687c008615ce2be93faa2721cbf5ef57e479c11"
 },
 "nbformat": 3,
 "nbformat_minor": 0,
 "worksheets": [
  {
   "cells": [
    {
     "cell_type": "code",
     "collapsed": false,
     "input": [
      "%matplotlib\n",
      "import matplotlib.pyplot as plt\n",
      "\n",
      "from pcsample import Sample\n",
      "\n",
      "s = Sample(10, 5, 4)\n",
      "r = s.positions()\n",
      "\n",
      "plt.plot(r[:,0], r[:,1], 'o')\n",
      "plt.show()\n"
     ],
     "language": "python",
     "metadata": {},
     "outputs": []
    }
   ],
   "metadata": {}
  }
 ]
}