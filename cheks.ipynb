{
 "metadata": {
  "name": "",
  "signature": "sha256:ffc8a621b217794f8b41e2caf556c1784667562dc7740746ca7eb1a705b71f80"
 },
 "nbformat": 3,
 "nbformat_minor": 0,
 "worksheets": [
  {
   "cells": [
    {
     "cell_type": "code",
     "collapsed": false,
     "input": [
      "%matplotlib\n",
      "import matplotlib.pyplot as plt\n",
      "\n",
      "from pcsample import Sample\n",
      "\n",
      "s = Sample(5, 4, 4)\n",
      "r_latt = s.in_circles()\n",
      "r_rand = s.out_circles()\n",
      "\n",
      "plt.plot(r_latt[:,0], r_latt[:,1], '.r')\n",
      "plt.plot(r_rand[:,0], r_rand[:,1], '.k')\n",
      "plt.show()\n"
     ],
     "language": "python",
     "metadata": {},
     "outputs": []
    },
    {
     "cell_type": "code",
     "collapsed": false,
     "input": [
      "import numpy as np\n",
      "\n",
      "s = Sample(2.0, 2.0, 2.0)\n",
      "print all([vec in s.random_lattice() for vec in s.in_circles()])\n",
      "print s.in_circles() in s.random_lattice()"
     ],
     "language": "python",
     "metadata": {},
     "outputs": []
    },
    {
     "cell_type": "code",
     "collapsed": false,
     "input": [
      "print s.to_string()"
     ],
     "language": "python",
     "metadata": {},
     "outputs": []
    },
    {
     "cell_type": "code",
     "collapsed": false,
     "input": [
      "print s.to_string(include_id=False)"
     ],
     "language": "python",
     "metadata": {},
     "outputs": []
    },
    {
     "cell_type": "code",
     "collapsed": false,
     "input": [
      "import lxml.etree as ETree\n",
      "print ETree.dump(s.xml_lattice(), )"
     ],
     "language": "python",
     "metadata": {},
     "outputs": []
    }
   ],
   "metadata": {}
  }
 ]
}