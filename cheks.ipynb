{
 "metadata": {
  "name": "",
  "signature": "sha256:8b2f72a9c4f44616cf1aa08ff3dbef453ad7b138e2cfa45e9e5e3c103578b7c9"
 },
 "nbformat": 3,
 "nbformat_minor": 0,
 "worksheets": [
  {
   "cells": [
    {
     "cell_type": "code",
     "collapsed": false,
     "input": [
      "%matplotlib\n",
      "import matplotlib.pyplot as plt\n",
      "\n",
      "from pcsample import Sample\n",
      "\n",
      "s = Sample(5, 4, 4)\n",
      "r_latt = s.in_circles()\n",
      "r_rand = s.out_circles()\n",
      "\n",
      "plt.plot(r_latt[:,0], r_latt[:,1], '.r')\n",
      "plt.plot(r_rand[:,0], r_rand[:,1], '.k')\n",
      "plt.show()\n"
     ],
     "language": "python",
     "metadata": {},
     "outputs": [
      {
       "output_type": "stream",
       "stream": "stdout",
       "text": [
        "Using matplotlib backend: Qt4Agg\n"
       ]
      }
     ],
     "prompt_number": 9
    }
   ],
   "metadata": {}
  }
 ]
}